{
 "cells": [
  {
   "cell_type": "code",
   "execution_count": 96,
   "id": "2ac4eee6",
   "metadata": {},
   "outputs": [
    {
     "name": "stdout",
     "output_type": "stream",
     "text": [
      "✅ Final columns: ['Activity', 'CO2_kg_per_year']\n"
     ]
    }
   ],
   "source": [
    "import pandas as pd\n",
    "import os\n",
    "\n",
    "# Use direct relative path instead of __file__\n",
    "csv_path = \"data/emissions_table.csv\"\n",
    "\n",
    "# Load and sanitize column names\n",
    "emissions_df = pd.read_csv(csv_path)\n",
    "emissions_df.columns = emissions_df.columns.str.strip()  # Remove extra spaces\n",
    "\n",
    "# Handle BOM if present\n",
    "if '\\ufeffActivity' in emissions_df.columns:\n",
    "    emissions_df.rename(columns={'\\ufeffActivity': 'Activity'}, inplace=True)\n",
    "\n",
    "print(\"✅ Final columns:\", emissions_df.columns.tolist())"
   ]
  },
  {
   "cell_type": "code",
   "execution_count": 97,
   "id": "34fe133f",
   "metadata": {},
   "outputs": [],
   "source": [
    "import sys\n",
    "import os\n",
    "\n",
    "sys.path.append(os.getcwd())  # Adds current directory to Python path"
   ]
  },
  {
   "cell_type": "code",
   "execution_count": 98,
   "id": "d9103a7e",
   "metadata": {},
   "outputs": [
    {
     "name": "stdout",
     "output_type": "stream",
     "text": [
      "✅ Columns after strip: ['Activity', 'CO2_kg_per_year']\n"
     ]
    }
   ],
   "source": [
    "import os\n",
    "import pandas as pd\n",
    "\n",
    "try:\n",
    "    base_path = os.path.dirname(__file__)\n",
    "except NameError:\n",
    "    base_path = os.getcwd()\n",
    "\n",
    "csv_path = os.path.join(base_path, \"data\", \"emissions_table.csv\")\n",
    "emissions_df = pd.read_csv(csv_path, encoding=\"utf-8-sig\")\n",
    "emissions_df.columns = emissions_df.columns.str.strip()  # important!\n",
    "\n",
    "print(\"✅ Columns after strip:\", emissions_df.columns.tolist())"
   ]
  },
  {
   "cell_type": "code",
   "execution_count": 99,
   "id": "6080c716",
   "metadata": {},
   "outputs": [
    {
     "name": "stdout",
     "output_type": "stream",
     "text": [
      "Index(['Activity', 'CO2_kg_per_year'], dtype='object')\n"
     ]
    }
   ],
   "source": [
    "import pandas as pd\n",
    "\n",
    "df = pd.read_csv(\"data/emissions_table.csv\")\n",
    "print(df.columns)"
   ]
  },
  {
   "cell_type": "code",
   "execution_count": 100,
   "id": "f27f685a",
   "metadata": {},
   "outputs": [
    {
     "name": "stdout",
     "output_type": "stream",
     "text": [
      "📊 CSV Columns: ['Activity', 'CO2_kg_per_year']\n",
      "                 Activity  CO2_kg_per_year\n",
      "0          Eat Meat Daily             1450\n",
      "1          Commute by Car             1800\n",
      "2  Use Plastic Frequently              250\n",
      "3         Use Coal Energy             2200\n"
     ]
    }
   ],
   "source": [
    "print(\"📊 CSV Columns:\", df.columns.tolist())\n",
    "print(df.head())"
   ]
  },
  {
   "cell_type": "code",
   "execution_count": 101,
   "id": "b748b946",
   "metadata": {},
   "outputs": [
    {
     "name": "stdout",
     "output_type": "stream",
     "text": [
      "📄 CSV Columns: ['Activity', 'CO2_kg_per_year']\n"
     ]
    }
   ],
   "source": [
    "import pandas as pd\n",
    "\n",
    "df = pd.read_csv(\"data/emissions_table.csv\")\n",
    "print(\"📄 CSV Columns:\", list(df.columns))"
   ]
  },
  {
   "cell_type": "code",
   "execution_count": 1,
   "id": "7c354772",
   "metadata": {},
   "outputs": [
    {
     "name": "stdout",
     "output_type": "stream",
     "text": [
      "Cleaned Columns: ['Activity', 'CO2_kg_per_year']\n",
      "{'total_emissions': 5700, 'green_score': 0, 'breakdown': {'Eat Meat Daily': 1450, 'Commute': 1800, 'Plastic Use': 250, 'Energy': 2200}, 'projection': {2035: 57000, 2050: 142500, 2075: 285000}}\n"
     ]
    }
   ],
   "source": [
    "from backend.simulation_engine import simulate_impact\n",
    "\n",
    "result = simulate_impact(\"Yes\", \"Car\", \"Frequently\", \"Coal-based\")\n",
    "print(result)"
   ]
  },
  {
   "cell_type": "code",
   "execution_count": 2,
   "id": "fdd5cc65",
   "metadata": {},
   "outputs": [],
   "source": [
    "from cohere import Client\n",
    "\n",
    "co = Client(\"HyGaZJm2j8B7jXXwnDwvzzFNuJRV9IEg4y8vvLOe\")  # Replace with your actual API key"
   ]
  }
 ],
 "metadata": {
  "kernelspec": {
   "display_name": "Python 3",
   "language": "python",
   "name": "python3"
  },
  "language_info": {
   "codemirror_mode": {
    "name": "ipython",
    "version": 3
   },
   "file_extension": ".py",
   "mimetype": "text/x-python",
   "name": "python",
   "nbconvert_exporter": "python",
   "pygments_lexer": "ipython3",
   "version": "3.10.11"
  }
 },
 "nbformat": 4,
 "nbformat_minor": 5
}
